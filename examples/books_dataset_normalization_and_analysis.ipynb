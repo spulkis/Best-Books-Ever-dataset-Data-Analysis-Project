{
 "cells": [
  {
   "cell_type": "markdown",
   "id": "65b3dc81-9da3-43e4-b164-b12770577b4e",
   "metadata": {
    "editable": true,
    "slideshow": {
     "slide_type": ""
    },
    "tags": []
   },
   "source": [
    "## Data Analysis Project: Best Books Ever dataset\n",
    "\n",
    "In this project, we will work with GoodReads Best Books dataset and we will try load it into database, perform normalization procedures and do some analysis of the data.\n",
    "\n",
    "### Objectives\n",
    "\n",
    "*   Practice setting up an RDBMS.\n",
    "*   Practice ingesting data from CSV files.\n",
    "*   Practice normalizing tables.\n",
    "*   Practice analyzing data."
   ]
  },
  {
   "cell_type": "markdown",
   "id": "78f6cb0b-2d55-4cda-85d5-b680c7c97436",
   "metadata": {},
   "source": [
    "## Start\n",
    "Let's import the libraries that we will use for our project:"
   ]
  },
  {
   "cell_type": "code",
   "execution_count": 1,
   "id": "3548c48c-f998-408d-90a0-8a0c6e227274",
   "metadata": {},
   "outputs": [],
   "source": [
    "import re            # Regular expression operations\n",
    "import ast           # Abstract Syntax Trees (AST) manipulation\n",
    "import numpy as np   # Numerical computing library\n",
    "import pandas as pd  # Data manipulation and analysis library\n",
    "from dateutil import parser  # Date parsing library\n",
    "from sqlalchemy import (  # SQL toolkit and Object-Relational Mapping (ORM)\n",
    "    create_engine, text, exc, ForeignKey, ForeignKeyConstraint,\n",
    "    Column, String, Integer, Float, CHAR, Text, Date\n",
    ")\n",
    "from sqlalchemy.orm import declarative_base, sessionmaker  # ORM-related tools\n",
    "from sqlalchemy_utils import database_exists, create_database  # Additional SQLAlchemy utilities\n",
    "import config as cfg  # Configuration file (assuming it contains sensitive information)\n",
    "import logging\n",
    "import matplotlib.pyplot as plt\n",
    "%matplotlib inline"
   ]
  },
  {
   "cell_type": "markdown",
   "id": "1228ddfa-2d5a-4bb1-84f8-35340f19efd4",
   "metadata": {},
   "source": [
    "Let's describe our environment variables:"
   ]
  },
  {
   "cell_type": "code",
   "execution_count": 2,
   "id": "0385c645-28d1-4bda-935a-6920ab2e2dc3",
   "metadata": {
    "editable": true,
    "slideshow": {
     "slide_type": ""
    },
    "tags": []
   },
   "outputs": [],
   "source": [
    "DATABASE = \"test\"\n",
    "HOSTNAME = cfg.HOSTNAME\n",
    "USER = cfg.USER\n",
    "PASSWORD = cfg.PASSWORD\n",
    "CONNECTION_STRING = f\"mysql+pymysql://{USER}:{PASSWORD}@{HOSTNAME}/{DATABASE}\"\n",
    "CSV_PATH = cfg.CSV_PATH"
   ]
  },
  {
   "cell_type": "markdown",
   "id": "4b107b7c-a47c-4141-8b9f-58beff28b3c4",
   "metadata": {},
   "source": [
    "And set up logging:"
   ]
  },
  {
   "cell_type": "code",
   "execution_count": 3,
   "id": "312a2f64-8d35-4b71-b3a3-3d05f3937c46",
   "metadata": {},
   "outputs": [],
   "source": [
    "logging.basicConfig(filename='data_error.log', level=logging.ERROR)"
   ]
  },
  {
   "cell_type": "markdown",
   "id": "8ec1b8f8-eef5-442d-8023-e81e939fdfd4",
   "metadata": {},
   "source": [
    "Let's create a new Engine instance. This Engine instance will serve as the interface to your MySQL database, allowing you to execute SQL commands and interact with the database within your Jupyter notebook:"
   ]
  },
  {
   "cell_type": "code",
   "execution_count": 4,
   "id": "608b8046-5411-43ea-b2df-f03fc20d6d56",
   "metadata": {},
   "outputs": [],
   "source": [
    "engine = create_engine(CONNECTION_STRING)"
   ]
  },
  {
   "cell_type": "markdown",
   "id": "a83d890b-99fa-494a-9ea4-88b3f92a2c44",
   "metadata": {},
   "source": [
    "Let's do a backend-specific testing to quickly determine if a database exists on the server. If not, create a database:"
   ]
  },
  {
   "cell_type": "code",
   "execution_count": 5,
   "id": "c12e3916-15b0-4d3b-b22b-7c1797c0af73",
   "metadata": {},
   "outputs": [
    {
     "name": "stdout",
     "output_type": "stream",
     "text": [
      "Database exists:  True\n"
     ]
    }
   ],
   "source": [
    "if not database_exists(engine.url):\n",
    "    create_database(engine.url)\n",
    "print(\"Database exists: \", database_exists(engine.url))"
   ]
  },
  {
   "cell_type": "markdown",
   "id": "9cdc248f-811e-4a3f-8071-599513dfd7f3",
   "metadata": {},
   "source": [
    "## Data Loading and Cleaning\n",
    "\n",
    "Start by loading the Best Books Ever dataset from the provided CSV file into a Pandas DataFrame and peek into the dataset by displaying the first few rows using the .head() method to understand its structure and contents:"
   ]
  },
  {
   "cell_type": "code",
   "execution_count": 7,
   "id": "81ad24f8-7834-4be8-bfac-a60fd834c3bf",
   "metadata": {
    "scrolled": true
   },
   "outputs": [
    {
     "ename": "TypeError",
     "evalue": "read_csv() got an unexpected keyword argument 'error_bad_lines'",
     "output_type": "error",
     "traceback": [
      "\u001b[1;31m---------------------------------------------------------------------------\u001b[0m",
      "\u001b[1;31mTypeError\u001b[0m                                 Traceback (most recent call last)",
      "Cell \u001b[1;32mIn[7], line 3\u001b[0m\n\u001b[0;32m      1\u001b[0m \u001b[38;5;28;01mtry\u001b[39;00m:\n\u001b[0;32m      2\u001b[0m     \u001b[38;5;66;03m# Attempt to read the CSV file\u001b[39;00m\n\u001b[1;32m----> 3\u001b[0m     tests \u001b[38;5;241m=\u001b[39m \u001b[43mpd\u001b[49m\u001b[38;5;241;43m.\u001b[39;49m\u001b[43mread_csv\u001b[49m\u001b[43m(\u001b[49m\n\u001b[0;32m      4\u001b[0m \u001b[43m        \u001b[49m\u001b[43mCSV_PATH\u001b[49m\u001b[43m,\u001b[49m\u001b[43m \u001b[49m\n\u001b[0;32m      5\u001b[0m \u001b[43m        \u001b[49m\u001b[43mdelimiter\u001b[49m\u001b[38;5;241;43m=\u001b[39;49m\u001b[38;5;124;43m'\u001b[39;49m\u001b[38;5;124;43m,\u001b[39;49m\u001b[38;5;124;43m'\u001b[39;49m\u001b[43m,\u001b[49m\u001b[43m  \u001b[49m\u001b[38;5;66;43;03m# Adjust the delimiter if necessary\u001b[39;49;00m\n\u001b[0;32m      6\u001b[0m \u001b[43m        \u001b[49m\u001b[43mskipinitialspace\u001b[49m\u001b[38;5;241;43m=\u001b[39;49m\u001b[38;5;28;43;01mTrue\u001b[39;49;00m\u001b[43m,\u001b[49m\u001b[43m \u001b[49m\n\u001b[0;32m      7\u001b[0m \u001b[43m        \u001b[49m\u001b[43merror_bad_lines\u001b[49m\u001b[38;5;241;43m=\u001b[39;49m\u001b[38;5;28;43;01mFalse\u001b[39;49;00m\u001b[43m,\u001b[49m\u001b[43m \u001b[49m\n\u001b[0;32m      8\u001b[0m \u001b[43m        \u001b[49m\u001b[43mwarn_bad_lines\u001b[49m\u001b[38;5;241;43m=\u001b[39;49m\u001b[38;5;28;43;01mTrue\u001b[39;49;00m\n\u001b[0;32m      9\u001b[0m \u001b[43m    \u001b[49m\u001b[43m)\u001b[49m\n\u001b[0;32m     10\u001b[0m     \u001b[38;5;66;03m# Display the first few rows\u001b[39;00m\n\u001b[0;32m     11\u001b[0m     display(df\u001b[38;5;241m.\u001b[39mhead(\u001b[38;5;241m3\u001b[39m))\n",
      "\u001b[1;31mTypeError\u001b[0m: read_csv() got an unexpected keyword argument 'error_bad_lines'"
     ]
    }
   ],
   "source": [
    "try:\n",
    "    # Attempt to read the CSV file\n",
    "    tests = pd.read_csv(\n",
    "        CSV_PATH, \n",
    "        delimiter=',',  # Adjust the delimiter if necessary\n",
    "        skipinitialspace=True, \n",
    "        error_bad_lines=False, \n",
    "        warn_bad_lines=True\n",
    "    )\n",
    "    # Display the first few rows\n",
    "    display(df.head(3))\n",
    "except pd.errors.ParserError as e:\n",
    "    print(\"ParserError: \", e)\n",
    "\n",
    "\n",
    "\n",
    "\n",
    "display(tests.head(3))"
   ]
  },
  {
   "cell_type": "markdown",
   "id": "e4d3b3ba-3781-4178-9eb7-042646c711d7",
   "metadata": {},
   "source": [
    "We'll now change the name of the columns. The column names use camelcase instead of Python's preferred snakecase. For that we will use the DataFrame.columns attribute:"
   ]
  },
  {
   "cell_type": "code",
   "execution_count": 7,
   "id": "69fadcc7-3689-4eb1-b32e-dcb8e3bf5bec",
   "metadata": {
    "scrolled": true
   },
   "outputs": [],
   "source": [
    "books.columns = ['book_id', 'title', 'series', 'author', 'rating', 'description',\n",
    "       'language', 'isbn', 'genres', 'characters', 'book_format', 'edition',\n",
    "        'pages', 'publisher', 'publish_date','first_publish_date', 'awards',\n",
    "        'num_ratings', 'ratings_by_stars', 'liked_percent', 'setting', 'cover_img',\n",
    "        'bbe_score', 'bbe_votes', 'price']"
   ]
  },
  {
   "cell_type": "markdown",
   "id": "987e0b78-01a6-476d-99e4-a2e05b443c9f",
   "metadata": {},
   "source": [
    "Now let's remove unwanted characters based on the hyphen and dot delimiters from our book_id's:"
   ]
  },
  {
   "cell_type": "code",
   "execution_count": 8,
   "id": "5fde6fef-4160-481d-9e27-2815bfdb1735",
   "metadata": {
    "scrolled": true
   },
   "outputs": [],
   "source": [
    "def transform_book_id(text):\n",
    "  return text.split('-')[0].split('.')[0].strip()\n",
    "books['book_id'] = books['book_id'].apply(transform_book_id)"
   ]
  },
  {
   "cell_type": "markdown",
   "id": "f02f0980-e5ff-45b8-9f25-663db2c44f53",
   "metadata": {},
   "source": [
    "Remove unnecessary strings 'more...' from author's column values and ' page' from pages column:"
   ]
  },
  {
   "cell_type": "code",
   "execution_count": 9,
   "id": "332e64f1-cbec-4c89-a3b7-0be8c48b458a",
   "metadata": {},
   "outputs": [],
   "source": [
    "books['author'] = books['author'].str.replace(', more…', '')\n",
    "books['pages'] = books['pages'].str.replace(' page', '')"
   ]
  },
  {
   "cell_type": "markdown",
   "id": "7eec7ada-33ee-470c-b052-1e5ab65c8fc8",
   "metadata": {},
   "source": [
    "Ensure that the 'book_id', 'pages' and 'price' columns is of numeric type before sorting. Here's how you can do it:"
   ]
  },
  {
   "cell_type": "code",
   "execution_count": 10,
   "id": "d1ff59d2-a5c7-4249-b0bf-4bf98517f8ad",
   "metadata": {},
   "outputs": [],
   "source": [
    "books['book_id'] = pd.to_numeric(books['book_id'], errors='coerce')\n",
    "books['pages'] = pd.to_numeric(books['pages'], errors='coerce')\n",
    "books['price'] = pd.to_numeric(books['price'], errors='coerce')"
   ]
  },
  {
   "cell_type": "markdown",
   "id": "a3d87037-36c2-4980-a32f-98ab1041b2cc",
   "metadata": {},
   "source": [
    "Let's remove duplicated books:"
   ]
  },
  {
   "cell_type": "code",
   "execution_count": 11,
   "id": "5c0eff95-1ec4-40ba-a4fc-c5cb2ed6115f",
   "metadata": {},
   "outputs": [],
   "source": [
    "books = books.drop_duplicates(subset=['book_id'], keep='first')"
   ]
  },
  {
   "cell_type": "markdown",
   "id": "aef68e39-7878-4d9d-9b35-afe4b3864477",
   "metadata": {},
   "source": [
    "Enhance the organization of your dataset by sorting the entries based on the 'book_id' column and adjusting the index accordingly:"
   ]
  },
  {
   "cell_type": "code",
   "execution_count": 12,
   "id": "ce0e98b2-6e88-4b09-a72b-b545cfaf01ed",
   "metadata": {},
   "outputs": [],
   "source": [
    "books = books.sort_values(by=['book_id'], ascending=True)\n",
    "books.reset_index(drop=True, inplace=True)\n",
    "books.index = books.index + 1"
   ]
  },
  {
   "cell_type": "markdown",
   "id": "eae4d833-18d1-4358-900b-b10587518737",
   "metadata": {},
   "source": [
    "Enhance the consistency of author names by removing commas within parentheses:"
   ]
  },
  {
   "cell_type": "code",
   "execution_count": 13,
   "id": "1b1b0335-ffd9-4939-aaf1-bef7b864f7d9",
   "metadata": {
    "scrolled": true
   },
   "outputs": [
    {
     "data": {
      "text/html": [
       "<div>\n",
       "<style scoped>\n",
       "    .dataframe tbody tr th:only-of-type {\n",
       "        vertical-align: middle;\n",
       "    }\n",
       "\n",
       "    .dataframe tbody tr th {\n",
       "        vertical-align: top;\n",
       "    }\n",
       "\n",
       "    .dataframe thead th {\n",
       "        text-align: right;\n",
       "    }\n",
       "</style>\n",
       "<table border=\"1\" class=\"dataframe\">\n",
       "  <thead>\n",
       "    <tr style=\"text-align: right;\">\n",
       "      <th></th>\n",
       "      <th>book_id</th>\n",
       "      <th>title</th>\n",
       "      <th>series</th>\n",
       "      <th>author</th>\n",
       "      <th>rating</th>\n",
       "      <th>description</th>\n",
       "      <th>language</th>\n",
       "      <th>isbn</th>\n",
       "      <th>genres</th>\n",
       "      <th>characters</th>\n",
       "      <th>...</th>\n",
       "      <th>first_publish_date</th>\n",
       "      <th>awards</th>\n",
       "      <th>num_ratings</th>\n",
       "      <th>ratings_by_stars</th>\n",
       "      <th>liked_percent</th>\n",
       "      <th>setting</th>\n",
       "      <th>cover_img</th>\n",
       "      <th>bbe_score</th>\n",
       "      <th>bbe_votes</th>\n",
       "      <th>price</th>\n",
       "    </tr>\n",
       "  </thead>\n",
       "  <tbody>\n",
       "    <tr>\n",
       "      <th>1</th>\n",
       "      <td>1</td>\n",
       "      <td>Harry Potter and the Half-Blood Prince</td>\n",
       "      <td>Harry Potter #6</td>\n",
       "      <td>J.K. Rowling</td>\n",
       "      <td>4.57</td>\n",
       "      <td>The war against Voldemort is not going well; e...</td>\n",
       "      <td>English</td>\n",
       "      <td>9999999999999</td>\n",
       "      <td>['Fantasy', 'Young Adult', 'Fiction', 'Magic',...</td>\n",
       "      <td>['Draco Malfoy', 'Ron Weasley', 'Petunia Dursl...</td>\n",
       "      <td>...</td>\n",
       "      <td>07/16/05</td>\n",
       "      <td>['Locus Award Nominee for Best Young Adult Nov...</td>\n",
       "      <td>2437658</td>\n",
       "      <td>['1646703', '584575', '167461', '27277', '11642']</td>\n",
       "      <td>98.0</td>\n",
       "      <td>['Hogwarts School of Witchcraft and Wizardry (...</td>\n",
       "      <td>https://i.gr-assets.com/images/S/compressed.ph...</td>\n",
       "      <td>162803</td>\n",
       "      <td>1889</td>\n",
       "      <td>NaN</td>\n",
       "    </tr>\n",
       "    <tr>\n",
       "      <th>2</th>\n",
       "      <td>2</td>\n",
       "      <td>Harry Potter and the Order of the Phoenix</td>\n",
       "      <td>Harry Potter #5</td>\n",
       "      <td>J.K. Rowling, Mary GrandPré (Illustrator)</td>\n",
       "      <td>4.50</td>\n",
       "      <td>There is a door at the end of a silent corrido...</td>\n",
       "      <td>English</td>\n",
       "      <td>9780439358071</td>\n",
       "      <td>['Fantasy', 'Young Adult', 'Fiction', 'Magic',...</td>\n",
       "      <td>['Sirius Black', 'Draco Malfoy', 'Ron Weasley'...</td>\n",
       "      <td>...</td>\n",
       "      <td>06/21/03</td>\n",
       "      <td>['Bram Stoker Award for Works for Young Reader...</td>\n",
       "      <td>2507623</td>\n",
       "      <td>['1593642', '637516', '222366', '39573', '14526']</td>\n",
       "      <td>98.0</td>\n",
       "      <td>['Hogwarts School of Witchcraft and Wizardry (...</td>\n",
       "      <td>https://i.gr-assets.com/images/S/compressed.ph...</td>\n",
       "      <td>2632233</td>\n",
       "      <td>26923</td>\n",
       "      <td>7.38</td>\n",
       "    </tr>\n",
       "    <tr>\n",
       "      <th>3</th>\n",
       "      <td>3</td>\n",
       "      <td>Harry Potter and the Sorcerer's Stone</td>\n",
       "      <td>Harry Potter #1</td>\n",
       "      <td>J.K. Rowling, Mary GrandPré (Illustrator)</td>\n",
       "      <td>4.47</td>\n",
       "      <td>Harry Potter's life is miserable. His parents ...</td>\n",
       "      <td>English</td>\n",
       "      <td>9999999999999</td>\n",
       "      <td>['Fantasy', 'Fiction', 'Young Adult', 'Magic',...</td>\n",
       "      <td>['Draco Malfoy', 'Ron Weasley', 'Petunia Dursl...</td>\n",
       "      <td>...</td>\n",
       "      <td>06/26/97</td>\n",
       "      <td>[\"Mythopoeic Fantasy Award for Children's Lite...</td>\n",
       "      <td>7048471</td>\n",
       "      <td>['4578137', '1611874', '600384', '139551', '11...</td>\n",
       "      <td>96.0</td>\n",
       "      <td>['London, England', 'Hogwarts School of Witchc...</td>\n",
       "      <td>https://i.gr-assets.com/images/S/compressed.ph...</td>\n",
       "      <td>691430</td>\n",
       "      <td>7348</td>\n",
       "      <td>NaN</td>\n",
       "    </tr>\n",
       "  </tbody>\n",
       "</table>\n",
       "<p>3 rows × 25 columns</p>\n",
       "</div>"
      ],
      "text/plain": [
       "   book_id                                      title           series  \\\n",
       "1        1     Harry Potter and the Half-Blood Prince  Harry Potter #6   \n",
       "2        2  Harry Potter and the Order of the Phoenix  Harry Potter #5   \n",
       "3        3      Harry Potter and the Sorcerer's Stone  Harry Potter #1   \n",
       "\n",
       "                                      author  rating  \\\n",
       "1                               J.K. Rowling    4.57   \n",
       "2  J.K. Rowling, Mary GrandPré (Illustrator)    4.50   \n",
       "3  J.K. Rowling, Mary GrandPré (Illustrator)    4.47   \n",
       "\n",
       "                                         description language           isbn  \\\n",
       "1  The war against Voldemort is not going well; e...  English  9999999999999   \n",
       "2  There is a door at the end of a silent corrido...  English  9780439358071   \n",
       "3  Harry Potter's life is miserable. His parents ...  English  9999999999999   \n",
       "\n",
       "                                              genres  \\\n",
       "1  ['Fantasy', 'Young Adult', 'Fiction', 'Magic',...   \n",
       "2  ['Fantasy', 'Young Adult', 'Fiction', 'Magic',...   \n",
       "3  ['Fantasy', 'Fiction', 'Young Adult', 'Magic',...   \n",
       "\n",
       "                                          characters  ... first_publish_date  \\\n",
       "1  ['Draco Malfoy', 'Ron Weasley', 'Petunia Dursl...  ...           07/16/05   \n",
       "2  ['Sirius Black', 'Draco Malfoy', 'Ron Weasley'...  ...           06/21/03   \n",
       "3  ['Draco Malfoy', 'Ron Weasley', 'Petunia Dursl...  ...           06/26/97   \n",
       "\n",
       "                                              awards  num_ratings  \\\n",
       "1  ['Locus Award Nominee for Best Young Adult Nov...      2437658   \n",
       "2  ['Bram Stoker Award for Works for Young Reader...      2507623   \n",
       "3  [\"Mythopoeic Fantasy Award for Children's Lite...      7048471   \n",
       "\n",
       "                                    ratings_by_stars liked_percent  \\\n",
       "1  ['1646703', '584575', '167461', '27277', '11642']          98.0   \n",
       "2  ['1593642', '637516', '222366', '39573', '14526']          98.0   \n",
       "3  ['4578137', '1611874', '600384', '139551', '11...          96.0   \n",
       "\n",
       "                                             setting  \\\n",
       "1  ['Hogwarts School of Witchcraft and Wizardry (...   \n",
       "2  ['Hogwarts School of Witchcraft and Wizardry (...   \n",
       "3  ['London, England', 'Hogwarts School of Witchc...   \n",
       "\n",
       "                                           cover_img  bbe_score bbe_votes  \\\n",
       "1  https://i.gr-assets.com/images/S/compressed.ph...     162803      1889   \n",
       "2  https://i.gr-assets.com/images/S/compressed.ph...    2632233     26923   \n",
       "3  https://i.gr-assets.com/images/S/compressed.ph...     691430      7348   \n",
       "\n",
       "   price  \n",
       "1    NaN  \n",
       "2   7.38  \n",
       "3    NaN  \n",
       "\n",
       "[3 rows x 25 columns]"
      ]
     },
     "metadata": {},
     "output_type": "display_data"
    }
   ],
   "source": [
    "def remove_commas_in_parentheses(text):\n",
    "  return re.sub(r'\\([^()]+\\)', lambda x: x.group().replace(',', ';'), text)\n",
    "    \n",
    "books['author'] = books['author'].apply(remove_commas_in_parentheses)\n",
    "\n",
    "display(books.head(3))"
   ]
  },
  {
   "cell_type": "markdown",
   "id": "a7dd1763-e493-4d0f-880e-125d56d2d4ff",
   "metadata": {},
   "source": [
    "## Data Transformation\n",
    "This code extracts authors from book data, creates a unique author table with IDs, and builds a bridge table linking 'books' to 'authors' using those IDs:"
   ]
  },
  {
   "cell_type": "code",
   "execution_count": 14,
   "id": "19aa41df-a2df-4d0f-85b8-eece62e8a9f3",
   "metadata": {},
   "outputs": [
    {
     "data": {
      "text/html": [
       "<div>\n",
       "<style scoped>\n",
       "    .dataframe tbody tr th:only-of-type {\n",
       "        vertical-align: middle;\n",
       "    }\n",
       "\n",
       "    .dataframe tbody tr th {\n",
       "        vertical-align: top;\n",
       "    }\n",
       "\n",
       "    .dataframe thead th {\n",
       "        text-align: right;\n",
       "    }\n",
       "</style>\n",
       "<table border=\"1\" class=\"dataframe\">\n",
       "  <thead>\n",
       "    <tr style=\"text-align: right;\">\n",
       "      <th></th>\n",
       "      <th>author</th>\n",
       "    </tr>\n",
       "    <tr>\n",
       "      <th>author_id</th>\n",
       "      <th></th>\n",
       "    </tr>\n",
       "  </thead>\n",
       "  <tbody>\n",
       "    <tr>\n",
       "      <th>1</th>\n",
       "      <td>J.K. Rowling</td>\n",
       "    </tr>\n",
       "    <tr>\n",
       "      <th>2</th>\n",
       "      <td>Mary GrandPré (Illustrator)</td>\n",
       "    </tr>\n",
       "    <tr>\n",
       "      <th>3</th>\n",
       "      <td>Douglas Adams</td>\n",
       "    </tr>\n",
       "  </tbody>\n",
       "</table>\n",
       "</div>"
      ],
      "text/plain": [
       "                                author\n",
       "author_id                             \n",
       "1                         J.K. Rowling\n",
       "2          Mary GrandPré (Illustrator)\n",
       "3                        Douglas Adams"
      ]
     },
     "metadata": {},
     "output_type": "display_data"
    },
    {
     "data": {
      "text/html": [
       "<div>\n",
       "<style scoped>\n",
       "    .dataframe tbody tr th:only-of-type {\n",
       "        vertical-align: middle;\n",
       "    }\n",
       "\n",
       "    .dataframe tbody tr th {\n",
       "        vertical-align: top;\n",
       "    }\n",
       "\n",
       "    .dataframe thead th {\n",
       "        text-align: right;\n",
       "    }\n",
       "</style>\n",
       "<table border=\"1\" class=\"dataframe\">\n",
       "  <thead>\n",
       "    <tr style=\"text-align: right;\">\n",
       "      <th></th>\n",
       "      <th>book_id</th>\n",
       "      <th>author_id</th>\n",
       "    </tr>\n",
       "    <tr>\n",
       "      <th>index</th>\n",
       "      <th></th>\n",
       "      <th></th>\n",
       "    </tr>\n",
       "  </thead>\n",
       "  <tbody>\n",
       "    <tr>\n",
       "      <th>1</th>\n",
       "      <td>1</td>\n",
       "      <td>1</td>\n",
       "    </tr>\n",
       "    <tr>\n",
       "      <th>2</th>\n",
       "      <td>2</td>\n",
       "      <td>1</td>\n",
       "    </tr>\n",
       "    <tr>\n",
       "      <th>3</th>\n",
       "      <td>2</td>\n",
       "      <td>2</td>\n",
       "    </tr>\n",
       "  </tbody>\n",
       "</table>\n",
       "</div>"
      ],
      "text/plain": [
       "       book_id  author_id\n",
       "index                    \n",
       "1            1          1\n",
       "2            2          1\n",
       "3            2          2"
      ]
     },
     "metadata": {},
     "output_type": "display_data"
    }
   ],
   "source": [
    "authors_exploded = books[['book_id', 'author']]\n",
    "authors_exploded.loc[:, 'author'] = authors_exploded['author'].apply(lambda x: x.split(', ') if isinstance(x, str) else x)\n",
    "authors_exploded = authors_exploded.explode('author')\n",
    "\n",
    "authors = authors_exploded[['author']].drop_duplicates().reset_index(drop=True)\n",
    "authors.index = authors.index + 1\n",
    "authors['author_id'] = authors.index\n",
    "\n",
    "authors_books_bridge = pd.merge(authors_exploded, authors, on='author', how='left')\n",
    "authors_books_bridge.rename(columns = {'index':'author_id'}, inplace = True)\n",
    "authors_books_bridge.rename_axis('index', inplace=True)\n",
    "authors_books_bridge.index = authors_books_bridge.index + 1\n",
    "authors_books_bridge.drop(columns=['author'], inplace=True)\n",
    "\n",
    "authors.drop(columns=['author_id'], inplace=True)\n",
    "authors.rename_axis('author_id', inplace=True)\n",
    "\n",
    "del authors_exploded\n",
    "display(authors.head(3))\n",
    "display(authors_books_bridge.head(3))"
   ]
  },
  {
   "cell_type": "markdown",
   "id": "bff3c354-78a7-42b0-a57c-7536efc30311",
   "metadata": {},
   "source": [
    "Now, let's do similar thing to 'genres' column, transforming it and establishing a bridge between 'genres' and 'books':"
   ]
  },
  {
   "cell_type": "code",
   "execution_count": 15,
   "id": "4e7c0cc4-6512-4603-9677-8ffb5e3aed11",
   "metadata": {},
   "outputs": [
    {
     "data": {
      "text/html": [
       "<div>\n",
       "<style scoped>\n",
       "    .dataframe tbody tr th:only-of-type {\n",
       "        vertical-align: middle;\n",
       "    }\n",
       "\n",
       "    .dataframe tbody tr th {\n",
       "        vertical-align: top;\n",
       "    }\n",
       "\n",
       "    .dataframe thead th {\n",
       "        text-align: right;\n",
       "    }\n",
       "</style>\n",
       "<table border=\"1\" class=\"dataframe\">\n",
       "  <thead>\n",
       "    <tr style=\"text-align: right;\">\n",
       "      <th></th>\n",
       "      <th>genre</th>\n",
       "    </tr>\n",
       "    <tr>\n",
       "      <th>genre_id</th>\n",
       "      <th></th>\n",
       "    </tr>\n",
       "  </thead>\n",
       "  <tbody>\n",
       "    <tr>\n",
       "      <th>1</th>\n",
       "      <td>Fantasy</td>\n",
       "    </tr>\n",
       "    <tr>\n",
       "      <th>2</th>\n",
       "      <td>Young Adult</td>\n",
       "    </tr>\n",
       "    <tr>\n",
       "      <th>3</th>\n",
       "      <td>Fiction</td>\n",
       "    </tr>\n",
       "  </tbody>\n",
       "</table>\n",
       "</div>"
      ],
      "text/plain": [
       "                genre\n",
       "genre_id             \n",
       "1             Fantasy\n",
       "2         Young Adult\n",
       "3             Fiction"
      ]
     },
     "metadata": {},
     "output_type": "display_data"
    },
    {
     "data": {
      "text/html": [
       "<div>\n",
       "<style scoped>\n",
       "    .dataframe tbody tr th:only-of-type {\n",
       "        vertical-align: middle;\n",
       "    }\n",
       "\n",
       "    .dataframe tbody tr th {\n",
       "        vertical-align: top;\n",
       "    }\n",
       "\n",
       "    .dataframe thead th {\n",
       "        text-align: right;\n",
       "    }\n",
       "</style>\n",
       "<table border=\"1\" class=\"dataframe\">\n",
       "  <thead>\n",
       "    <tr style=\"text-align: right;\">\n",
       "      <th></th>\n",
       "      <th>book_id</th>\n",
       "      <th>genre_id</th>\n",
       "    </tr>\n",
       "    <tr>\n",
       "      <th>index</th>\n",
       "      <th></th>\n",
       "      <th></th>\n",
       "    </tr>\n",
       "  </thead>\n",
       "  <tbody>\n",
       "    <tr>\n",
       "      <th>1</th>\n",
       "      <td>1</td>\n",
       "      <td>1</td>\n",
       "    </tr>\n",
       "    <tr>\n",
       "      <th>2</th>\n",
       "      <td>1</td>\n",
       "      <td>2</td>\n",
       "    </tr>\n",
       "    <tr>\n",
       "      <th>3</th>\n",
       "      <td>1</td>\n",
       "      <td>3</td>\n",
       "    </tr>\n",
       "  </tbody>\n",
       "</table>\n",
       "</div>"
      ],
      "text/plain": [
       "       book_id  genre_id\n",
       "index                   \n",
       "1            1         1\n",
       "2            1         2\n",
       "3            1         3"
      ]
     },
     "metadata": {},
     "output_type": "display_data"
    }
   ],
   "source": [
    "genres_exploded = books[['book_id', 'genres']]\n",
    "genres_exploded.loc[:, 'genres'] = genres_exploded['genres'].str.replace(r'\\[|\\]|\\'', '', regex=True)\n",
    "genres_exploded.loc[:, 'genres'] = genres_exploded['genres'].apply(lambda x: x.split(', ') if isinstance(x, str) else x)\n",
    "genres_exploded = genres_exploded.explode('genres')\n",
    "\n",
    "genres = genres_exploded[['genres']].drop_duplicates().reset_index(drop=True)\n",
    "genres.index = genres.index + 1\n",
    "genres['genre_id'] = genres.index\n",
    "\n",
    "genres_books_bridge = pd.merge(genres_exploded, genres, on='genres', how='left')\n",
    "genres_books_bridge.rename(columns = {'index':'genre_id'}, inplace = True)\n",
    "genres_books_bridge.rename_axis('index', inplace=True)\n",
    "genres_books_bridge.index = genres_books_bridge.index + 1\n",
    "genres_books_bridge.drop(columns=['genres'], inplace=True)\n",
    "\n",
    "genres.drop(columns=['genre_id'], inplace=True)\n",
    "genres.rename_axis('genre_id', inplace=True)\n",
    "genres.rename(columns = {'genres':'genre'}, inplace = True)\n",
    "\n",
    "del genres_exploded\n",
    "display(genres.head(3))\n",
    "display(genres_books_bridge.head(3))"
   ]
  },
  {
   "cell_type": "markdown",
   "id": "3ac26003-7eab-4234-9f5b-810119be3837",
   "metadata": {},
   "source": [
    "Let's continue doing the same for 'characters' column:"
   ]
  },
  {
   "cell_type": "code",
   "execution_count": 16,
   "id": "90fc3290-e1aa-4d03-afb8-9de5c57dff08",
   "metadata": {
    "scrolled": true
   },
   "outputs": [
    {
     "data": {
      "text/html": [
       "<div>\n",
       "<style scoped>\n",
       "    .dataframe tbody tr th:only-of-type {\n",
       "        vertical-align: middle;\n",
       "    }\n",
       "\n",
       "    .dataframe tbody tr th {\n",
       "        vertical-align: top;\n",
       "    }\n",
       "\n",
       "    .dataframe thead th {\n",
       "        text-align: right;\n",
       "    }\n",
       "</style>\n",
       "<table border=\"1\" class=\"dataframe\">\n",
       "  <thead>\n",
       "    <tr style=\"text-align: right;\">\n",
       "      <th></th>\n",
       "      <th>character</th>\n",
       "    </tr>\n",
       "    <tr>\n",
       "      <th>character_id</th>\n",
       "      <th></th>\n",
       "    </tr>\n",
       "  </thead>\n",
       "  <tbody>\n",
       "    <tr>\n",
       "      <th>1</th>\n",
       "      <td>Draco Malfoy</td>\n",
       "    </tr>\n",
       "    <tr>\n",
       "      <th>2</th>\n",
       "      <td>Ron Weasley</td>\n",
       "    </tr>\n",
       "    <tr>\n",
       "      <th>3</th>\n",
       "      <td>Petunia Dursley</td>\n",
       "    </tr>\n",
       "  </tbody>\n",
       "</table>\n",
       "</div>"
      ],
      "text/plain": [
       "                    character\n",
       "character_id                 \n",
       "1                Draco Malfoy\n",
       "2                 Ron Weasley\n",
       "3             Petunia Dursley"
      ]
     },
     "metadata": {},
     "output_type": "display_data"
    },
    {
     "data": {
      "text/html": [
       "<div>\n",
       "<style scoped>\n",
       "    .dataframe tbody tr th:only-of-type {\n",
       "        vertical-align: middle;\n",
       "    }\n",
       "\n",
       "    .dataframe tbody tr th {\n",
       "        vertical-align: top;\n",
       "    }\n",
       "\n",
       "    .dataframe thead th {\n",
       "        text-align: right;\n",
       "    }\n",
       "</style>\n",
       "<table border=\"1\" class=\"dataframe\">\n",
       "  <thead>\n",
       "    <tr style=\"text-align: right;\">\n",
       "      <th></th>\n",
       "      <th>book_id</th>\n",
       "      <th>character_id</th>\n",
       "    </tr>\n",
       "    <tr>\n",
       "      <th>index</th>\n",
       "      <th></th>\n",
       "      <th></th>\n",
       "    </tr>\n",
       "  </thead>\n",
       "  <tbody>\n",
       "    <tr>\n",
       "      <th>1</th>\n",
       "      <td>1</td>\n",
       "      <td>1</td>\n",
       "    </tr>\n",
       "    <tr>\n",
       "      <th>2</th>\n",
       "      <td>1</td>\n",
       "      <td>2</td>\n",
       "    </tr>\n",
       "    <tr>\n",
       "      <th>3</th>\n",
       "      <td>1</td>\n",
       "      <td>3</td>\n",
       "    </tr>\n",
       "  </tbody>\n",
       "</table>\n",
       "</div>"
      ],
      "text/plain": [
       "       book_id  character_id\n",
       "index                       \n",
       "1            1             1\n",
       "2            1             2\n",
       "3            1             3"
      ]
     },
     "metadata": {},
     "output_type": "display_data"
    }
   ],
   "source": [
    "characters_exploded = books[['book_id', 'characters']]\n",
    "characters_exploded.loc[:, 'characters'] = characters_exploded['characters'].str.replace(r'\\[|\\]|\\'', '', regex=True)\n",
    "characters_exploded.loc[:, 'characters'] = characters_exploded['characters'].apply(lambda x: x.split(', ') if isinstance(x, str) else x)\n",
    "characters_exploded = characters_exploded.explode('characters')\n",
    "\n",
    "characters = characters_exploded[['characters']].drop_duplicates().reset_index(drop=True)\n",
    "characters.index = characters.index + 1\n",
    "characters['character_id'] = characters.index\n",
    "\n",
    "characters_books_bridge = pd.merge(characters_exploded, characters, on='characters', how='left')\n",
    "characters_books_bridge.rename(columns = {'index':'character_id'}, inplace = True)\n",
    "characters_books_bridge.rename_axis('index', inplace=True)\n",
    "characters_books_bridge.index = characters_books_bridge.index + 1\n",
    "characters_books_bridge.drop(columns=['characters'], inplace=True)\n",
    "\n",
    "characters.drop(columns=['character_id'], inplace=True)\n",
    "characters.rename_axis('character_id', inplace=True)\n",
    "characters.rename(columns = {'characters':'character'}, inplace = True)\n",
    "\n",
    "del characters_exploded\n",
    "display(characters.head(3))\n",
    "display(characters_books_bridge.head(3))"
   ]
  },
  {
   "cell_type": "markdown",
   "id": "c0a9d532-035a-4f89-bd89-6d8bb168c0f0",
   "metadata": {},
   "source": [
    "And let's do the same for 'awards' column:"
   ]
  },
  {
   "cell_type": "code",
   "execution_count": 17,
   "id": "b5f9e8bb-5996-4ed1-9790-ca104b753738",
   "metadata": {},
   "outputs": [
    {
     "data": {
      "text/html": [
       "<div>\n",
       "<style scoped>\n",
       "    .dataframe tbody tr th:only-of-type {\n",
       "        vertical-align: middle;\n",
       "    }\n",
       "\n",
       "    .dataframe tbody tr th {\n",
       "        vertical-align: top;\n",
       "    }\n",
       "\n",
       "    .dataframe thead th {\n",
       "        text-align: right;\n",
       "    }\n",
       "</style>\n",
       "<table border=\"1\" class=\"dataframe\">\n",
       "  <thead>\n",
       "    <tr style=\"text-align: right;\">\n",
       "      <th></th>\n",
       "      <th>award</th>\n",
       "    </tr>\n",
       "    <tr>\n",
       "      <th>award_id</th>\n",
       "      <th></th>\n",
       "    </tr>\n",
       "  </thead>\n",
       "  <tbody>\n",
       "    <tr>\n",
       "      <th>1</th>\n",
       "      <td>Locus Award Nominee for Best Young Adult Novel...</td>\n",
       "    </tr>\n",
       "    <tr>\n",
       "      <th>2</th>\n",
       "      <td>Audie Award for Audiobook of the Year (2006)</td>\n",
       "    </tr>\n",
       "    <tr>\n",
       "      <th>3</th>\n",
       "      <td>British Book of the Year (2006)</td>\n",
       "    </tr>\n",
       "  </tbody>\n",
       "</table>\n",
       "</div>"
      ],
      "text/plain": [
       "                                                      award\n",
       "award_id                                                   \n",
       "1         Locus Award Nominee for Best Young Adult Novel...\n",
       "2              Audie Award for Audiobook of the Year (2006)\n",
       "3                           British Book of the Year (2006)"
      ]
     },
     "metadata": {},
     "output_type": "display_data"
    },
    {
     "data": {
      "text/html": [
       "<div>\n",
       "<style scoped>\n",
       "    .dataframe tbody tr th:only-of-type {\n",
       "        vertical-align: middle;\n",
       "    }\n",
       "\n",
       "    .dataframe tbody tr th {\n",
       "        vertical-align: top;\n",
       "    }\n",
       "\n",
       "    .dataframe thead th {\n",
       "        text-align: right;\n",
       "    }\n",
       "</style>\n",
       "<table border=\"1\" class=\"dataframe\">\n",
       "  <thead>\n",
       "    <tr style=\"text-align: right;\">\n",
       "      <th></th>\n",
       "      <th>book_id</th>\n",
       "      <th>award_id</th>\n",
       "    </tr>\n",
       "    <tr>\n",
       "      <th>index</th>\n",
       "      <th></th>\n",
       "      <th></th>\n",
       "    </tr>\n",
       "  </thead>\n",
       "  <tbody>\n",
       "    <tr>\n",
       "      <th>1</th>\n",
       "      <td>1</td>\n",
       "      <td>1</td>\n",
       "    </tr>\n",
       "    <tr>\n",
       "      <th>2</th>\n",
       "      <td>1</td>\n",
       "      <td>2</td>\n",
       "    </tr>\n",
       "    <tr>\n",
       "      <th>3</th>\n",
       "      <td>1</td>\n",
       "      <td>3</td>\n",
       "    </tr>\n",
       "  </tbody>\n",
       "</table>\n",
       "</div>"
      ],
      "text/plain": [
       "       book_id  award_id\n",
       "index                   \n",
       "1            1         1\n",
       "2            1         2\n",
       "3            1         3"
      ]
     },
     "metadata": {},
     "output_type": "display_data"
    }
   ],
   "source": [
    "awards_exploded = books[['book_id', 'awards']]\n",
    "awards_exploded.loc[:, 'awards'] = awards_exploded['awards'].str.replace(r'\\[|\\]|\\'', '', regex=True)\n",
    "awards_exploded.loc[:, 'awards'] = awards_exploded['awards'].apply(lambda x: x.split(', ') if isinstance(x, str) else x)\n",
    "awards_exploded = awards_exploded.explode('awards')\n",
    "\n",
    "awards = awards_exploded[['awards']].drop_duplicates().reset_index(drop=True)\n",
    "awards.index = awards.index + 1\n",
    "awards['award_id'] = awards.index\n",
    "\n",
    "awards_books_bridge = pd.merge(awards_exploded, awards, on='awards', how='left')\n",
    "awards_books_bridge.rename(columns = {'index':'award_id'}, inplace = True)\n",
    "awards_books_bridge.rename_axis('index', inplace=True)\n",
    "awards_books_bridge.index = awards_books_bridge.index + 1\n",
    "awards_books_bridge.drop(columns=['awards'], inplace=True)\n",
    "\n",
    "awards.drop(columns=['award_id'], inplace=True)\n",
    "awards.rename_axis('award_id', inplace=True)\n",
    "awards.rename(columns = {'awards':'award'}, inplace = True)\n",
    "\n",
    "del awards_exploded\n",
    "display(awards.head(3))\n",
    "display(awards_books_bridge.head(3))"
   ]
  },
  {
   "cell_type": "markdown",
   "id": "a8759138-a525-44ca-bb2f-5e25ffae18aa",
   "metadata": {},
   "source": [
    "Last column that need similar transformation is 'settings' column, let's transform it and establish a bridge between 'settings' and 'books':"
   ]
  },
  {
   "cell_type": "code",
   "execution_count": 18,
   "id": "5025aee9-e26a-4b40-b18c-80306422e061",
   "metadata": {},
   "outputs": [
    {
     "data": {
      "text/html": [
       "<div>\n",
       "<style scoped>\n",
       "    .dataframe tbody tr th:only-of-type {\n",
       "        vertical-align: middle;\n",
       "    }\n",
       "\n",
       "    .dataframe tbody tr th {\n",
       "        vertical-align: top;\n",
       "    }\n",
       "\n",
       "    .dataframe thead th {\n",
       "        text-align: right;\n",
       "    }\n",
       "</style>\n",
       "<table border=\"1\" class=\"dataframe\">\n",
       "  <thead>\n",
       "    <tr style=\"text-align: right;\">\n",
       "      <th></th>\n",
       "      <th>setting</th>\n",
       "    </tr>\n",
       "    <tr>\n",
       "      <th>setting_id</th>\n",
       "      <th></th>\n",
       "    </tr>\n",
       "  </thead>\n",
       "  <tbody>\n",
       "    <tr>\n",
       "      <th>1</th>\n",
       "      <td>Hogwarts School of Witchcraft and Wizardry (Un...</td>\n",
       "    </tr>\n",
       "    <tr>\n",
       "      <th>2</th>\n",
       "      <td>Hogwarts School of Witchcraft and Wizardry (Un...</td>\n",
       "    </tr>\n",
       "    <tr>\n",
       "      <th>3</th>\n",
       "      <td>London, England, Hogwarts School of Witchcraft...</td>\n",
       "    </tr>\n",
       "  </tbody>\n",
       "</table>\n",
       "</div>"
      ],
      "text/plain": [
       "                                                      setting\n",
       "setting_id                                                   \n",
       "1           Hogwarts School of Witchcraft and Wizardry (Un...\n",
       "2           Hogwarts School of Witchcraft and Wizardry (Un...\n",
       "3           London, England, Hogwarts School of Witchcraft..."
      ]
     },
     "metadata": {},
     "output_type": "display_data"
    },
    {
     "data": {
      "text/html": [
       "<div>\n",
       "<style scoped>\n",
       "    .dataframe tbody tr th:only-of-type {\n",
       "        vertical-align: middle;\n",
       "    }\n",
       "\n",
       "    .dataframe tbody tr th {\n",
       "        vertical-align: top;\n",
       "    }\n",
       "\n",
       "    .dataframe thead th {\n",
       "        text-align: right;\n",
       "    }\n",
       "</style>\n",
       "<table border=\"1\" class=\"dataframe\">\n",
       "  <thead>\n",
       "    <tr style=\"text-align: right;\">\n",
       "      <th></th>\n",
       "      <th>book_id</th>\n",
       "      <th>setting_id</th>\n",
       "    </tr>\n",
       "    <tr>\n",
       "      <th>index</th>\n",
       "      <th></th>\n",
       "      <th></th>\n",
       "    </tr>\n",
       "  </thead>\n",
       "  <tbody>\n",
       "    <tr>\n",
       "      <th>1</th>\n",
       "      <td>1</td>\n",
       "      <td>1</td>\n",
       "    </tr>\n",
       "    <tr>\n",
       "      <th>2</th>\n",
       "      <td>2</td>\n",
       "      <td>2</td>\n",
       "    </tr>\n",
       "    <tr>\n",
       "      <th>3</th>\n",
       "      <td>3</td>\n",
       "      <td>3</td>\n",
       "    </tr>\n",
       "  </tbody>\n",
       "</table>\n",
       "</div>"
      ],
      "text/plain": [
       "       book_id  setting_id\n",
       "index                     \n",
       "1            1           1\n",
       "2            2           2\n",
       "3            3           3"
      ]
     },
     "metadata": {},
     "output_type": "display_data"
    }
   ],
   "source": [
    "settings_exploded = books[['book_id', 'setting']]\n",
    "settings_exploded.loc[:, 'setting'] = settings_exploded['setting'].str.replace(r'\\[|\\]|\\'', '', regex=True)\n",
    "\n",
    "def split_setting(setting):\n",
    "    # Split by comma followed by a space only if not within parentheses\n",
    "    parts = re.split(r',\\s*(?=[A-Z][a-z]*(?:\\s[A-Z][a-z]*)*(?:\\s\\([A-Za-z\\s]*\\)))', setting)\n",
    "    return parts\n",
    "\n",
    "settings_exploded.loc[:, 'setting'] = settings_exploded['setting'].apply(lambda x: split_setting(x) if isinstance(x, str) else x)\n",
    "settings_exploded = settings_exploded.explode('setting')\n",
    "\n",
    "settings = settings_exploded[['setting']].drop_duplicates().reset_index(drop=True)\n",
    "settings.index = settings.index + 1\n",
    "settings['setting_id'] = settings.index\n",
    "\n",
    "settings_books_bridge = pd.merge(settings_exploded, settings, on='setting', how='left')\n",
    "settings_books_bridge.rename(columns = {'index':'setting_id'}, inplace = True)\n",
    "settings_books_bridge.rename_axis('index', inplace=True)\n",
    "settings_books_bridge.index = settings_books_bridge.index + 1\n",
    "settings_books_bridge.drop(columns=['setting'], inplace=True)\n",
    "\n",
    "settings.drop(columns=['setting_id'], inplace=True)\n",
    "settings.rename_axis('setting_id', inplace=True)\n",
    "\n",
    "del settings_exploded\n",
    "display(settings.head(3))\n",
    "display(settings_books_bridge.head(3))"
   ]
  },
  {
   "cell_type": "markdown",
   "id": "5b3f68d5-f172-4bee-bdbf-442cd888b0ea",
   "metadata": {},
   "source": [
    "Now, let's expand the 'ratings' and 'BBE scores' into separate columns and renames them for clarity, enriching the dataset with detailed ratings information for deeper analysis:"
   ]
  },
  {
   "cell_type": "code",
   "execution_count": 19,
   "id": "c1daa3ba-9e85-41d3-a74f-079973aebb63",
   "metadata": {},
   "outputs": [
    {
     "data": {
      "text/html": [
       "<div>\n",
       "<style scoped>\n",
       "    .dataframe tbody tr th:only-of-type {\n",
       "        vertical-align: middle;\n",
       "    }\n",
       "\n",
       "    .dataframe tbody tr th {\n",
       "        vertical-align: top;\n",
       "    }\n",
       "\n",
       "    .dataframe thead th {\n",
       "        text-align: right;\n",
       "    }\n",
       "</style>\n",
       "<table border=\"1\" class=\"dataframe\">\n",
       "  <thead>\n",
       "    <tr style=\"text-align: right;\">\n",
       "      <th></th>\n",
       "      <th>book_id</th>\n",
       "      <th>rating</th>\n",
       "      <th>num_ratings</th>\n",
       "      <th>five_stars</th>\n",
       "      <th>four_stars</th>\n",
       "      <th>three_stars</th>\n",
       "      <th>two_stars</th>\n",
       "      <th>one_star</th>\n",
       "      <th>liked_percent</th>\n",
       "      <th>bbe_score</th>\n",
       "      <th>bbe_votes</th>\n",
       "    </tr>\n",
       "  </thead>\n",
       "  <tbody>\n",
       "    <tr>\n",
       "      <th>1</th>\n",
       "      <td>1</td>\n",
       "      <td>4.57</td>\n",
       "      <td>2437658</td>\n",
       "      <td>1646703</td>\n",
       "      <td>584575</td>\n",
       "      <td>167461</td>\n",
       "      <td>27277</td>\n",
       "      <td>11642</td>\n",
       "      <td>98.0</td>\n",
       "      <td>162803</td>\n",
       "      <td>1889</td>\n",
       "    </tr>\n",
       "    <tr>\n",
       "      <th>2</th>\n",
       "      <td>2</td>\n",
       "      <td>4.50</td>\n",
       "      <td>2507623</td>\n",
       "      <td>1593642</td>\n",
       "      <td>637516</td>\n",
       "      <td>222366</td>\n",
       "      <td>39573</td>\n",
       "      <td>14526</td>\n",
       "      <td>98.0</td>\n",
       "      <td>2632233</td>\n",
       "      <td>26923</td>\n",
       "    </tr>\n",
       "    <tr>\n",
       "      <th>3</th>\n",
       "      <td>3</td>\n",
       "      <td>4.47</td>\n",
       "      <td>7048471</td>\n",
       "      <td>4578137</td>\n",
       "      <td>1611874</td>\n",
       "      <td>600384</td>\n",
       "      <td>139551</td>\n",
       "      <td>118525</td>\n",
       "      <td>96.0</td>\n",
       "      <td>691430</td>\n",
       "      <td>7348</td>\n",
       "    </tr>\n",
       "  </tbody>\n",
       "</table>\n",
       "</div>"
      ],
      "text/plain": [
       "   book_id  rating  num_ratings five_stars four_stars three_stars two_stars  \\\n",
       "1        1    4.57      2437658    1646703     584575      167461     27277   \n",
       "2        2    4.50      2507623    1593642     637516      222366     39573   \n",
       "3        3    4.47      7048471    4578137    1611874      600384    139551   \n",
       "\n",
       "  one_star  liked_percent  bbe_score  bbe_votes  \n",
       "1    11642           98.0     162803       1889  \n",
       "2    14526           98.0    2632233      26923  \n",
       "3   118525           96.0     691430       7348  "
      ]
     },
     "metadata": {},
     "output_type": "display_data"
    }
   ],
   "source": [
    "ratings_and_bbe_scores = books[['book_id', 'rating', 'num_ratings', 'ratings_by_stars', 'liked_percent', 'bbe_score', 'bbe_votes' ]]\n",
    "ratings_and_bbe_scores = pd.DataFrame(ratings_and_bbe_scores)\n",
    "\n",
    "# Function to convert the string representation of lists to actual lists\n",
    "def convert_to_list(ratings_str):\n",
    "    return ast.literal_eval(ratings_str)\n",
    "\n",
    "ratings_and_bbe_scores['ratings_by_stars'] = ratings_and_bbe_scores['ratings_by_stars'].apply(convert_to_list)\n",
    "expanded_stars = pd.DataFrame(ratings_and_bbe_scores['ratings_by_stars'].tolist(), index=ratings_and_bbe_scores.index)\n",
    "expanded_stars.columns = ['5_stars', '4_stars', '3_stars', '2_stars', '1_star']\n",
    "\n",
    "ratings_and_bbe_scores = pd.concat([ratings_and_bbe_scores, expanded_stars], axis=1)\n",
    "ratings_and_bbe_scores.drop(columns=['ratings_by_stars'], inplace=True)\n",
    "ratings_and_bbe_scores = ratings_and_bbe_scores[['book_id', 'rating', 'num_ratings', '5_stars', '4_stars', '3_stars', '2_stars', '1_star', 'liked_percent', 'bbe_score', 'bbe_votes' ]]\n",
    "ratings_and_bbe_scores.rename(columns = {'5_stars':'five_stars', '4_stars':'four_stars', '3_stars':'three_stars', '2_stars':'two_stars', '1_star':'one_star'}, inplace = True)\n",
    "display(ratings_and_bbe_scores.head(3))"
   ]
  },
  {
   "cell_type": "markdown",
   "id": "10671199-13cf-4d9c-8958-ca617ea17b22",
   "metadata": {},
   "source": [
    "Lastly, create DataFrame from information related to book publication, parse the publication dates in various formats to ensure consistency and convert them into a standardized format ('YYYY-MM-DD'), enhancing the dataset's reliability and uniformity for analysis:"
   ]
  },
  {
   "cell_type": "code",
   "execution_count": 20,
   "id": "8f27a0b5-6b92-4211-8205-45dc00acec45",
   "metadata": {},
   "outputs": [
    {
     "data": {
      "text/html": [
       "<div>\n",
       "<style scoped>\n",
       "    .dataframe tbody tr th:only-of-type {\n",
       "        vertical-align: middle;\n",
       "    }\n",
       "\n",
       "    .dataframe tbody tr th {\n",
       "        vertical-align: top;\n",
       "    }\n",
       "\n",
       "    .dataframe thead th {\n",
       "        text-align: right;\n",
       "    }\n",
       "</style>\n",
       "<table border=\"1\" class=\"dataframe\">\n",
       "  <thead>\n",
       "    <tr style=\"text-align: right;\">\n",
       "      <th></th>\n",
       "      <th>book_id</th>\n",
       "      <th>publisher</th>\n",
       "      <th>publish_date</th>\n",
       "      <th>first_publish_date</th>\n",
       "    </tr>\n",
       "  </thead>\n",
       "  <tbody>\n",
       "    <tr>\n",
       "      <th>1</th>\n",
       "      <td>1</td>\n",
       "      <td>Scholastic Inc.</td>\n",
       "      <td>2006-09-16</td>\n",
       "      <td>2005-07-16</td>\n",
       "    </tr>\n",
       "    <tr>\n",
       "      <th>2</th>\n",
       "      <td>2</td>\n",
       "      <td>Scholastic Inc.</td>\n",
       "      <td>2004-09-28</td>\n",
       "      <td>2003-06-21</td>\n",
       "    </tr>\n",
       "    <tr>\n",
       "      <th>3</th>\n",
       "      <td>3</td>\n",
       "      <td>Scholastic Inc</td>\n",
       "      <td>2003-11-01</td>\n",
       "      <td>1997-06-26</td>\n",
       "    </tr>\n",
       "  </tbody>\n",
       "</table>\n",
       "</div>"
      ],
      "text/plain": [
       "   book_id        publisher publish_date first_publish_date\n",
       "1        1  Scholastic Inc.   2006-09-16         2005-07-16\n",
       "2        2  Scholastic Inc.   2004-09-28         2003-06-21\n",
       "3        3   Scholastic Inc   2003-11-01         1997-06-26"
      ]
     },
     "metadata": {},
     "output_type": "display_data"
    }
   ],
   "source": [
    "publication_info = books[['book_id', 'publisher', 'publish_date', 'first_publish_date']]\n",
    "\n",
    "def parse_date(date_str):\n",
    "    for fmt in ('%B %d %Y', '%m/%d/%y', '%Y-%m-%d', '%B %d, %Y'):\n",
    "        try:\n",
    "            return pd.to_datetime(date_str, format=fmt)\n",
    "        except (ValueError, TypeError):\n",
    "            continue\n",
    "    try:\n",
    "        return parser.parse(date_str)\n",
    "    except (ValueError, TypeError):\n",
    "        return np.nan\n",
    "\n",
    "publication_info.loc[:, 'publish_date'] = publication_info['publish_date'].apply(parse_date)\n",
    "publication_info.loc[:, 'first_publish_date'] = publication_info['first_publish_date'].apply(parse_date)\n",
    "\n",
    "publication_info.loc[:, 'publish_date'] = pd.to_datetime(publication_info['publish_date'], errors='coerce').dt.strftime('%Y-%m-%d')\n",
    "publication_info.loc[:, 'first_publish_date'] = pd.to_datetime(publication_info['first_publish_date'], errors='coerce').dt.strftime('%Y-%m-%d')\n",
    "\n",
    "display(publication_info.head(3))"
   ]
  },
  {
   "cell_type": "markdown",
   "id": "8a7bc654-b392-4841-ab95-e194c86016f2",
   "metadata": {},
   "source": [
    "This code snippet removes redundant columns such as author, genres, characters, awards, rating, num_ratings, and others from the 'books' DataFrame, streamlining the dataset for focused analysis by eliminating unnecessary information:"
   ]
  },
  {
   "cell_type": "code",
   "execution_count": 21,
   "id": "a0a23777-43f8-413c-a1f6-424544bc4965",
   "metadata": {},
   "outputs": [],
   "source": [
    "books.drop(columns=['author', 'genres', 'characters', 'awards', 'rating', 'num_ratings', 'ratings_by_stars', 'liked_percent', 'bbe_score', 'bbe_votes', 'publisher', 'publish_date', 'first_publish_date', 'setting'], inplace=True)"
   ]
  },
  {
   "cell_type": "markdown",
   "id": "57bc7a02-637d-4683-9dc5-b688e7d4df7f",
   "metadata": {},
   "source": [
    "## Database Schema Definition\n",
    "This part of the code defines SQLAlchemy model classes representing various tables in the database schema, including tables for books, authors, genres, characters, awards, settings, ratings, and publication information. It establishes the structure and relationships between these tables and creates them in the database:"
   ]
  },
  {
   "cell_type": "code",
   "execution_count": 22,
   "id": "b34cdec7-2bcc-4b32-9f4d-86d7a15ea226",
   "metadata": {},
   "outputs": [],
   "source": [
    "Base = declarative_base()\n",
    "\n",
    "class Books(Base):\n",
    "    __tablename__ = \"books\"\n",
    "\n",
    "    index = Column(Integer, primary_key=True, index=True)\n",
    "    book_id = Column(Integer, index=True)\n",
    "    title = Column(String(512))\n",
    "    series = Column(String(512))\n",
    "    description = Column(Text(collation='utf8mb4_unicode_ci'))\n",
    "    language = Column(String(255))\n",
    "    isbn = Column(String(50))\n",
    "    book_format = Column(String(50))\n",
    "    edition = Column(String(255))\n",
    "    pages = Column(Integer)\n",
    "    cover_img = Column(String(255))\n",
    "    price = Column(Float)\n",
    "\n",
    "    def __init__(self, index, book_id, title, series, description, language, isbn, book_format, edition, pages, cover_img, price):\n",
    "        self.index = index\n",
    "        self.book_id = book_id\n",
    "        self.title = title\n",
    "        self.series = series \n",
    "        self.description = description\n",
    "        self.language = language\n",
    "        self.isbn = isbn\n",
    "        self.book_format = book_format \n",
    "        self.edition = edition\n",
    "        self.pages = pages\n",
    "        self.cover_img = cover_img\n",
    "        self.price = price\n",
    "\n",
    "    def __repr__(self):\n",
    "        return (\n",
    "        f\"<Books(index={self.index}, book_id={self.book_id}, title={self.title}, series={self.series}, \"\n",
    "        f\"description={self.description}, language={self.language}, isbn={self.isbn}, book_format={self.book_format}, \"\n",
    "        f\"edition={self.edition}, pages={self.pages}, cover_img={self.cover_img}, price={self.price})>\"\n",
    "        )\n",
    "\n",
    "class Authors(Base):\n",
    "    __tablename__ = \"authors\"\n",
    "    \n",
    "    author_id = Column(Integer, primary_key=True, unique=True, index=True)\n",
    "    author = Column(String(255))\n",
    "\n",
    "    def __init__(self, author_id, author):\n",
    "        self.author_id = author_id\n",
    "        self.author = author\n",
    "\n",
    "    def __repr__(self):\n",
    "        return f\"<Authors(author_id={self.author_id}, author={self.author})>\"\n",
    "\n",
    "class AuthorsBooks(Base):\n",
    "    __tablename__ = \"authors_books_bridge\"\n",
    "    __table_args__ = (\n",
    "        ForeignKeyConstraint([\"book_id\"], [\"books.book_id\"]),\n",
    "        ForeignKeyConstraint(['author_id'], ['authors.author_id'])\n",
    "    )\n",
    "\n",
    "    index = Column(Integer, primary_key=True, index=True)\n",
    "    book_id = Column(Integer)\n",
    "    author_id = Column(Integer)\n",
    "\n",
    "    def __init__(self, index, book_id, author_id):\n",
    "        self.index = index\n",
    "        self.book_id = book_id\n",
    "        self.author_id = author_id\n",
    "\n",
    "    def __repr__(self):\n",
    "        return f\"<AuthorsBooks(index={self.index}, book_id={self.book_id}, author_id={self.author_id})>\"\n",
    "\n",
    "class Genres(Base):\n",
    "    __tablename__ = \"genres\"\n",
    "    \n",
    "    genre_id = Column(Integer, primary_key=True, unique=True, index=True)\n",
    "    genre = Column(String(255))\n",
    "\n",
    "    def __init__(self, genre_id, genre):\n",
    "        self.genre_id = genre_id\n",
    "        self.genre = genre\n",
    "\n",
    "    def __repr__(self):\n",
    "        return f\"<Genres(genre_id={self.genre_id}, genre={self.genre})>\"\n",
    "\n",
    "class GenresBooks(Base):\n",
    "    __tablename__ = \"genres_books_bridge\"\n",
    "    __table_args__ = (\n",
    "        ForeignKeyConstraint([\"book_id\"], [\"books.book_id\"]),\n",
    "        ForeignKeyConstraint(['genre_id'], ['genres.genre_id'])\n",
    "    )\n",
    "\n",
    "    index = Column(Integer, primary_key=True)\n",
    "    book_id = Column(Integer)\n",
    "    genre_id = Column(Integer)\n",
    "\n",
    "    def __init__(self, index, book_id, genre_id):\n",
    "        self.index = index\n",
    "        self.book_id = book_id\n",
    "        self.genre_id = genre_id\n",
    "\n",
    "    def __repr__(self):\n",
    "        return f\"<GenresBooks(index={self.index}, book_id={self.book_id}, genre_id={self.genre_id})>\"\n",
    "\n",
    "class Characters(Base):\n",
    "    __tablename__ = \"characters\"\n",
    "    \n",
    "    character_id = Column(Integer, primary_key=True, unique=True, index=True)\n",
    "    character = Column(String(255))\n",
    "\n",
    "    def __init__(self, character_id, character):\n",
    "        self.character_id = character_id\n",
    "        self.character = character\n",
    "\n",
    "    def __repr__(self):\n",
    "        return f\"<Characters(character_id={self.character_id}, character={self.character})>\"\n",
    "\n",
    "class CharactersBooks(Base):\n",
    "    __tablename__ = \"characters_books_bridge\"\n",
    "    __table_args__ = (\n",
    "        ForeignKeyConstraint([\"book_id\"], [\"books.book_id\"]),\n",
    "        ForeignKeyConstraint(['character_id'], ['characters.character_id'])\n",
    "    )\n",
    "\n",
    "    index = Column(Integer, primary_key=True)\n",
    "    book_id = Column(Integer)\n",
    "    character_id = Column(Integer)\n",
    "\n",
    "    def __init__(self, index, book_id, character_id):\n",
    "        self.index = index\n",
    "        self.book_id = book_id\n",
    "        self.character_id = character_id\n",
    "\n",
    "    def __repr__(self):\n",
    "        return f\"<CharactersBooks(index={self.index}, book_id={self.book_id}, character_id={self.character_id})>\"\n",
    "\n",
    "class Awards(Base):\n",
    "    __tablename__ = \"awards\"\n",
    "    \n",
    "    award_id = Column(Integer, primary_key=True, unique=True, index=True)\n",
    "    award = Column(String(255))\n",
    "\n",
    "    def __init__(self, award_id, award):\n",
    "        self.award_id = award_id\n",
    "        self.award = award\n",
    "\n",
    "    def __repr__(self):\n",
    "        return f\"<Awards({self.award_id}, {self.award})>\"\n",
    "\n",
    "class AwardsBooks(Base):\n",
    "    __tablename__ = \"awards_books_bridge\"\n",
    "    __table_args__ = (\n",
    "        ForeignKeyConstraint([\"book_id\"], [\"books.book_id\"]),\n",
    "        ForeignKeyConstraint(['award_id'], ['awards.award_id'])\n",
    "    )\n",
    "\n",
    "    index = Column(Integer, primary_key=True)\n",
    "    book_id = Column(Integer)\n",
    "    award_id = Column(Integer)\n",
    "\n",
    "    def __init__(self, index, book_id, award_id):\n",
    "        self.index = index\n",
    "        self.book_id = book_id\n",
    "        self.award_id = award_id\n",
    "\n",
    "    def __repr__(self):\n",
    "        return f\"<AwardsBooks(index={self.index}, book_id={self.book_id}, award_id={self.award_id})>\"\n",
    "\n",
    "class Settings(Base):\n",
    "    __tablename__ = \"settings\"\n",
    "    \n",
    "    setting_id = Column(Integer, primary_key=True, unique=True, index=True)\n",
    "    setting = Column(Text)\n",
    "\n",
    "    def __init__(self, setting_id, setting):\n",
    "        self.setting_id = setting_id\n",
    "        self.setting = setting\n",
    "\n",
    "    def __repr__(self):\n",
    "        return f\"<Settings({self.setting_id}, {self.setting})>\"\n",
    "\n",
    "class SettingsBooks(Base):\n",
    "    __tablename__ = \"settings_books_bridge\"\n",
    "    __table_args__ = (\n",
    "        ForeignKeyConstraint([\"book_id\"], [\"books.book_id\"]),\n",
    "        ForeignKeyConstraint(['setting_id'], ['settings.setting_id'])\n",
    "    )\n",
    "\n",
    "    index = Column(Integer, primary_key=True)\n",
    "    book_id = Column(Integer)\n",
    "    setting_id = Column(Integer)\n",
    "\n",
    "    def __init__(self, index, book_id, setting_id):\n",
    "        self.index = index\n",
    "        self.book_id = book_id\n",
    "        self.setting_id = setting_id\n",
    "\n",
    "    def __repr__(self):\n",
    "        return f\"<SettingsBooks(index={self.index},{self.book_id}, setting={self.setting_id})>\"\n",
    "\n",
    "class RatingsAndBBEScores(Base):\n",
    "    __tablename__ = 'ratings_and_bbe_scores'\n",
    "    \n",
    "    index = Column(Integer, primary_key=True, unique=True, index=True)\n",
    "    book_id = Column(Integer, ForeignKey('books.book_id'))\n",
    "    rating = Column(Float)\n",
    "    num_ratings = Column(Integer)\n",
    "    five_stars = Column(Integer)\n",
    "    four_stars = Column(Integer)\n",
    "    three_stars = Column(Integer)\n",
    "    two_stars = Column(Integer)\n",
    "    one_star = Column(Integer)\n",
    "    liked_percent = Column(Float)\n",
    "    bbe_score = Column(Float)\n",
    "    bbe_votes = Column(Integer)\n",
    "\n",
    "    def __init__(self, index, book_id, rating, num_ratings, five_stars, four_stars, three_stars, two_stars, one_star, liked_percent, bbe_score, bbe_votes):\n",
    "        self.index = index\n",
    "        self.book_id = book_id\n",
    "        self.rating = rating\n",
    "        self.num_ratings = num_ratings\n",
    "        self.five_stars = five_stars\n",
    "        self.four_stars = four_stars\n",
    "        self.three_stars = three_stars\n",
    "        self.two_stars = two_stars\n",
    "        self.one_star = one_star\n",
    "        self.liked_percent = liked_percent\n",
    "        self.bbe_score = bbe_score\n",
    "        self.bbe_votes = bbe_votes\n",
    "\n",
    "    def __repr__(self):\n",
    "        return f\"<RatingsAndBBEScores(index={self.index}, book_id={self.book_id}, rating={self.rating}, num_ratings={self.num_ratings}, five_stars={self.five_stars}, four_stars={self.four_stars}, three_stars={self.three_stars}, two_stars={self.two_stars}, one_star={self.one_star}, liked_percent={self.liked_percent}, bbe_score={self.bbe_score}, bbe_votes={self.bbe_votes})>\"\n",
    "\n",
    "class PublicationInfo(Base):\n",
    "    __tablename__ = 'publication_info'\n",
    "    \n",
    "    index = Column(Integer, primary_key=True, unique=True, index=True)\n",
    "    book_id = Column(Integer, ForeignKey('books.book_id'))\n",
    "    publisher = Column(String(255))\n",
    "    publish_date = Column(Date)\n",
    "    first_publish_date = Column(Date)\n",
    "\n",
    "    def __init__(self, index, book_id, publisher, publish_date, first_publish_date):\n",
    "        self.index = index\n",
    "        self.book_id = book_id\n",
    "        self.publisher = publisher\n",
    "        self.publish_date = publish_date\n",
    "        self.first_publish_date = first_publish_date\n",
    "        \n",
    "    def __repr__(self):\n",
    "        return f\"<PublicationInfo(index={self.index}, book_id={self.book_id}, publisher={self.publisher}, publish_date={self.publish_date}, first_publish_date={self.first_publish_date})>\"\n",
    "\n",
    "Base.metadata.create_all(engine)\n"
   ]
  },
  {
   "cell_type": "markdown",
   "id": "ff57b0b7-5d17-456f-aea1-aa5a9daf2df5",
   "metadata": {},
   "source": [
    "## Data Insertion\n",
    "\n",
    "This code attempts to insert data into the corresponding tables in the database. If any SQLAlchemy error occurs during the insertion process, it logs the error to a file named 'data_error.log':"
   ]
  },
  {
   "cell_type": "code",
   "execution_count": 23,
   "id": "66e0539c-c250-4901-ac37-3ff86ab03dc6",
   "metadata": {},
   "outputs": [],
   "source": [
    "try:\n",
    "    # Attempt to insert data into the database\n",
    "    books.to_sql('books', engine, if_exists='append')\n",
    "    authors.to_sql('authors', engine, if_exists='append')\n",
    "    authors_books_bridge.to_sql('authors_books_bridge', engine, if_exists='append')\n",
    "    genres.to_sql('genres', engine, if_exists='append')\n",
    "    genres_books_bridge.to_sql('genres_books_bridge', engine, if_exists='append')\n",
    "    characters.to_sql('characters', engine, if_exists='append')\n",
    "    characters_books_bridge.to_sql('characters_books_bridge', engine, if_exists='append')\n",
    "    awards.to_sql('awards', engine, if_exists='append')\n",
    "    awards_books_bridge.to_sql('awards_books_bridge', engine, if_exists='append')\n",
    "    settings.to_sql('settings', engine, if_exists='append')\n",
    "    settings_books_bridge.to_sql('settings_books_bridge', engine, if_exists='append')\n",
    "    ratings_and_bbe_scores.to_sql('ratings_and_bbe_scores', engine, if_exists='append')\n",
    "    publication_info.to_sql('publication_info', engine, if_exists='append')\n",
    "    \n",
    "except exc.SQLAlchemyError as e:\n",
    "    # Log the error\n",
    "    logging.error(\"DataError: %s\", e)"
   ]
  },
  {
   "cell_type": "markdown",
   "id": "1963069d-f0ec-4382-be13-3482ea0e8f41",
   "metadata": {},
   "source": [
    "## Data Analysis\n",
    "\n",
    "We'll now perform some quick analysis on this dataset.\n",
    "Let's check which book format is the most common:"
   ]
  },
  {
   "cell_type": "code",
   "execution_count": 24,
   "id": "8e2e5f89-6ee5-4733-9c36-ce815441cf63",
   "metadata": {},
   "outputs": [
    {
     "name": "stdout",
     "output_type": "stream",
     "text": [
      "book_format\n",
      "Paperback                0.524916\n",
      "Hardcover                0.240545\n",
      "Kindle Edition           0.114306\n",
      "Mass Market Paperback    0.050362\n",
      "ebook                    0.049950\n",
      "Name: proportion, dtype: float64\n"
     ]
    }
   ],
   "source": [
    "print(books['book_format'].value_counts(normalize=True).head(5))"
   ]
  },
  {
   "cell_type": "markdown",
   "id": "b05a05d8-c532-45cf-a71c-c91fa6c59aff",
   "metadata": {},
   "source": [
    "As we can see the most common book format is 'Paperback'.\n",
    "Now let's see which book formats are the most expensive ones grouping them by price:"
   ]
  },
  {
   "cell_type": "code",
   "execution_count": 25,
   "id": "1c0c842c-f55f-4530-950a-a6094d86ab7b",
   "metadata": {},
   "outputs": [
    {
     "data": {
      "text/plain": [
       "book_format\n",
       "Capa Mole              162.485\n",
       "Rústica                119.000\n",
       "Digital                 75.950\n",
       "Slipcased Hardcover     75.772\n",
       "Bonded Leather          51.030\n",
       "Name: price, dtype: float64"
      ]
     },
     "execution_count": 25,
     "metadata": {},
     "output_type": "execute_result"
    }
   ],
   "source": [
    "books.groupby('book_format').price.mean().sort_values(ascending=False).head(5)"
   ]
  },
  {
   "cell_type": "code",
   "execution_count": 26,
   "id": "70058bc2-e47f-43b7-a802-08fe19f423a6",
   "metadata": {},
   "outputs": [
    {
     "data": {
      "image/png": "[encoded data removed]",
      "text/plain": [
       "<Figure size 640x480 with 1 Axes>"
      ]
     },
     "metadata": {},
     "output_type": "display_data"
    }
   ],
   "source": [
    "mean_prices = books.groupby('book_format').price.mean()\n",
    "top_five_mean_prices = mean_prices.nlargest(10)\n",
    "top_five_mean_prices.plot.bar()\n",
    "plt.xlabel('Book Format')\n",
    "plt.ylabel('Average Price')\n",
    "plt.title('Top 10 Book Formats by Average Price')\n",
    "plt.show()"
   ]
  },
  {
   "cell_type": "markdown",
   "id": "1dc14606-da58-46f3-988b-bc411914fb73",
   "metadata": {},
   "source": [
    "Now, let's check the top 10 highest-rated books with more than 10,000 ratings. To do so, we will need to merge data from 'books' and 'ratings_and_bbe_scores' dataframes, likely using the book ID as the common key for merging. We will then filter for books that have both more than 10,000 ratings and a high average rating:"
   ]
  },
  {
   "cell_type": "code",
   "execution_count": 27,
   "id": "d592362b-fc83-44ab-832a-4915bb117bba",
   "metadata": {},
   "outputs": [
    {
     "data": {
      "image/png": "[encoded data removed]",
      "text/plain": [
       "<Figure size 640x480 with 1 Axes>"
      ]
     },
     "metadata": {},
     "output_type": "display_data"
    }
   ],
   "source": [
    "merged_books_ratings = pd.merge(books, ratings_and_bbe_scores, on='book_id')\n",
    "\n",
    "filtered_books_ratings = merged_books_ratings[merged_books_ratings['num_ratings'] > 10000]\n",
    "book_analysis = filtered_books_ratings.groupby(['book_id', 'title', 'price']).agg(avg_rating=('rating', 'mean')).reset_index()\n",
    "\n",
    "sorted_books = book_analysis.sort_values(by=['avg_rating', 'price'], ascending=[False, True])\n",
    "top_books = sorted_books.head(10)\n",
    "\n",
    "plt.barh(top_books['title'], top_books['avg_rating'])\n",
    "plt.xlabel('Average Rating')\n",
    "plt.title('Top 10 Best-Rated Books According to Price (num_ratings > 10,000)')\n",
    "plt.show()\n"
   ]
  },
  {
   "cell_type": "markdown",
   "id": "142e524f-e9e7-42d5-9157-c1c0f5e151fe",
   "metadata": {},
   "source": [
    "## Close the Connection\n",
    "\n",
    "We free all resources by closing the connection. Remember that it is always important to close connections so that we can avoid unused connections taking up resources:"
   ]
  },
  {
   "cell_type": "code",
   "execution_count": 28,
   "id": "49107110-321f-4b96-852a-75e06ec9f470",
   "metadata": {},
   "outputs": [],
   "source": [
    "engine.dispose()"
   ]
  },
  {
   "cell_type": "markdown",
   "id": "d480754f-f0a9-4039-a501-5eb500b55cfc",
   "metadata": {},
   "source": [
    "## Conclusion\n",
    "\n",
    "This short analysis provided a comprehensive understanding of the common and most expensive book formats, as well as the top-rated books based on substantial reader feedback. This information can be valuable for readers, publishers, and market analysts in understanding book preferences and pricing dynamics.\n",
    "\n",
    "This project showcased effective data processing, transformation, and database management techniques, paving the way for further in-depth analysis."
   ]
  }
 ],
 "metadata": {
  "kernelspec": {
   "display_name": "Python 3 (ipykernel)",
   "language": "python",
   "name": "python3"
  },
  "language_info": {
   "codemirror_mode": {
    "name": "ipython",
    "version": 3
   },
   "file_extension": ".py",
   "mimetype": "text/x-python",
   "name": "python",
   "nbconvert_exporter": "python",
   "pygments_lexer": "ipython3",
   "version": "3.12.1"
  }
 },
 "nbformat": 4,
 "nbformat_minor": 5
}
